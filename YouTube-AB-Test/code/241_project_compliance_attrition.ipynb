{
 "cells": [
  {
   "cell_type": "code",
   "execution_count": 1,
   "metadata": {},
   "outputs": [],
   "source": [
    "import re\n",
    "import pandas as pd"
   ]
  },
  {
   "cell_type": "markdown",
   "metadata": {},
   "source": [
    "### Combine Everyone's Comments"
   ]
  },
  {
   "cell_type": "code",
   "execution_count": 2,
   "metadata": {},
   "outputs": [
    {
     "data": {
      "text/plain": [
       "Index(['video_id', 'comment', 'replies', 'date', 'Unnamed: 4', 'Unnamed: 5',\n",
       "       'Unnamed: 6', 'Unnamed: 7', 'Unnamed: 8', 'Unnamed: 9', 'Unnamed: 10',\n",
       "       'Unnamed: 11', 'Unnamed: 12'],\n",
       "      dtype='object')"
      ]
     },
     "execution_count": 2,
     "metadata": {},
     "output_type": "execute_result"
    }
   ],
   "source": [
    "# Load Max's week 1 and 2 comments CSV files into DataFrames\n",
    "df_week1_max = pd.read_csv('max_treat_set_1_comments.csv')\n",
    "df_week2_max = pd.read_csv('max_treat_set_2_comments.csv')\n",
    "\n",
    "# Concatenate the DataFrames\n",
    "maxs_comments = pd.concat([df_week1_max, df_week2_max], ignore_index=True)\n",
    "\n",
    "maxs_comments.shape\n",
    "maxs_comments.columns"
   ]
  },
  {
   "cell_type": "code",
   "execution_count": 3,
   "metadata": {},
   "outputs": [
    {
     "data": {
      "text/plain": [
       "Index(['video_id', 'comment', 'replies', 'date'], dtype='object')"
      ]
     },
     "execution_count": 3,
     "metadata": {},
     "output_type": "execute_result"
    }
   ],
   "source": [
    "# Load Sammys's week 1 and 2 comments CSV files into DataFrames\n",
    "df_week1 = pd.read_csv('sammy_treat_set1_comments.csv')\n",
    "df_week2 = pd.read_csv('sammy_treat_set2_comments.csv')\n",
    "\n",
    "# Concatenate the DataFrames\n",
    "sammys_comments = pd.concat([df_week1, df_week2], ignore_index=True)\n",
    "\n",
    "sammys_comments.shape\n",
    "sammys_comments.columns"
   ]
  },
  {
   "cell_type": "code",
   "execution_count": 4,
   "metadata": {},
   "outputs": [
    {
     "data": {
      "text/html": [
       "<div>\n",
       "<style scoped>\n",
       "    .dataframe tbody tr th:only-of-type {\n",
       "        vertical-align: middle;\n",
       "    }\n",
       "\n",
       "    .dataframe tbody tr th {\n",
       "        vertical-align: top;\n",
       "    }\n",
       "\n",
       "    .dataframe thead th {\n",
       "        text-align: right;\n",
       "    }\n",
       "</style>\n",
       "<table border=\"1\" class=\"dataframe\">\n",
       "  <thead>\n",
       "    <tr style=\"text-align: right;\">\n",
       "      <th></th>\n",
       "      <th>video_id</th>\n",
       "      <th>text</th>\n",
       "      <th>published_at</th>\n",
       "      <th>Unnamed: 4</th>\n",
       "      <th>Unnamed: 5</th>\n",
       "      <th>Unnamed: 6</th>\n",
       "      <th>Unnamed: 7</th>\n",
       "      <th>Unnamed: 8</th>\n",
       "      <th>Unnamed: 9</th>\n",
       "      <th>Unnamed: 10</th>\n",
       "      <th>Unnamed: 11</th>\n",
       "      <th>Unnamed: 12</th>\n",
       "    </tr>\n",
       "  </thead>\n",
       "  <tbody>\n",
       "    <tr>\n",
       "      <th>0</th>\n",
       "      <td>qRD4oFEzEk8</td>\n",
       "      <td>Cannabis works for epilepsy</td>\n",
       "      <td>2024-07-27 14:25:50.082245</td>\n",
       "      <td>NaN</td>\n",
       "      <td>NaN</td>\n",
       "      <td>NaN</td>\n",
       "      <td>NaN</td>\n",
       "      <td>NaN</td>\n",
       "      <td>NaN</td>\n",
       "      <td>NaN</td>\n",
       "      <td>NaN</td>\n",
       "      <td>NaN</td>\n",
       "    </tr>\n",
       "    <tr>\n",
       "      <th>1</th>\n",
       "      <td>qRD4oFEzEk8</td>\n",
       "      <td>THE NUMBERS MASON. WHAT DO THEY MEAN?</td>\n",
       "      <td>2024-07-27 14:25:50.082245</td>\n",
       "      <td>NaN</td>\n",
       "      <td>NaN</td>\n",
       "      <td>NaN</td>\n",
       "      <td>NaN</td>\n",
       "      <td>NaN</td>\n",
       "      <td>NaN</td>\n",
       "      <td>NaN</td>\n",
       "      <td>NaN</td>\n",
       "      <td>NaN</td>\n",
       "    </tr>\n",
       "    <tr>\n",
       "      <th>2</th>\n",
       "      <td>qRD4oFEzEk8</td>\n",
       "      <td>I hope it&amp;#39;s not another scam.</td>\n",
       "      <td>2024-07-27 14:25:50.082245</td>\n",
       "      <td>NaN</td>\n",
       "      <td>NaN</td>\n",
       "      <td>NaN</td>\n",
       "      <td>NaN</td>\n",
       "      <td>NaN</td>\n",
       "      <td>NaN</td>\n",
       "      <td>NaN</td>\n",
       "      <td>NaN</td>\n",
       "      <td>NaN</td>\n",
       "    </tr>\n",
       "    <tr>\n",
       "      <th>3</th>\n",
       "      <td>JJZM_E5dhlg</td>\n",
       "      <td>Shannon Bream...you are a sick individual and ...</td>\n",
       "      <td>2024-07-27 14:26:02.878828</td>\n",
       "      <td>NaN</td>\n",
       "      <td>NaN</td>\n",
       "      <td>NaN</td>\n",
       "      <td>NaN</td>\n",
       "      <td>NaN</td>\n",
       "      <td>NaN</td>\n",
       "      <td>NaN</td>\n",
       "      <td>NaN</td>\n",
       "      <td>NaN</td>\n",
       "    </tr>\n",
       "    <tr>\n",
       "      <th>4</th>\n",
       "      <td>JJZM_E5dhlg</td>\n",
       "      <td>Canpaña abinader leonel  enemigo</td>\n",
       "      <td>2024-07-27 14:26:02.878828</td>\n",
       "      <td>NaN</td>\n",
       "      <td>NaN</td>\n",
       "      <td>NaN</td>\n",
       "      <td>NaN</td>\n",
       "      <td>NaN</td>\n",
       "      <td>NaN</td>\n",
       "      <td>NaN</td>\n",
       "      <td>NaN</td>\n",
       "      <td>NaN</td>\n",
       "    </tr>\n",
       "    <tr>\n",
       "      <th>...</th>\n",
       "      <td>...</td>\n",
       "      <td>...</td>\n",
       "      <td>...</td>\n",
       "      <td>...</td>\n",
       "      <td>...</td>\n",
       "      <td>...</td>\n",
       "      <td>...</td>\n",
       "      <td>...</td>\n",
       "      <td>...</td>\n",
       "      <td>...</td>\n",
       "      <td>...</td>\n",
       "      <td>...</td>\n",
       "    </tr>\n",
       "    <tr>\n",
       "      <th>30013</th>\n",
       "      <td>ZkGvyfwBy8w</td>\n",
       "      <td>Rishi Robot is on a loop 🤖🤖</td>\n",
       "      <td>2024-07-22 03:04:03.660877</td>\n",
       "      <td>NaN</td>\n",
       "      <td>NaN</td>\n",
       "      <td>NaN</td>\n",
       "      <td>NaN</td>\n",
       "      <td>NaN</td>\n",
       "      <td>NaN</td>\n",
       "      <td>NaN</td>\n",
       "      <td>NaN</td>\n",
       "      <td>NaN</td>\n",
       "    </tr>\n",
       "    <tr>\n",
       "      <th>30014</th>\n",
       "      <td>ZkGvyfwBy8w</td>\n",
       "      <td>why he is not visiting universities instead of...</td>\n",
       "      <td>2024-07-22 03:04:03.660877</td>\n",
       "      <td>NaN</td>\n",
       "      <td>NaN</td>\n",
       "      <td>NaN</td>\n",
       "      <td>NaN</td>\n",
       "      <td>NaN</td>\n",
       "      <td>NaN</td>\n",
       "      <td>NaN</td>\n",
       "      <td>NaN</td>\n",
       "      <td>NaN</td>\n",
       "    </tr>\n",
       "    <tr>\n",
       "      <th>30015</th>\n",
       "      <td>ZkGvyfwBy8w</td>\n",
       "      <td>Got help this country under labour</td>\n",
       "      <td>2024-07-22 03:04:03.660877</td>\n",
       "      <td>NaN</td>\n",
       "      <td>NaN</td>\n",
       "      <td>NaN</td>\n",
       "      <td>NaN</td>\n",
       "      <td>NaN</td>\n",
       "      <td>NaN</td>\n",
       "      <td>NaN</td>\n",
       "      <td>NaN</td>\n",
       "      <td>NaN</td>\n",
       "    </tr>\n",
       "    <tr>\n",
       "      <th>30016</th>\n",
       "      <td>ZkGvyfwBy8w</td>\n",
       "      <td>Rishi will do and say anything to keep his gri...</td>\n",
       "      <td>2024-07-22 03:04:03.660877</td>\n",
       "      <td>NaN</td>\n",
       "      <td>NaN</td>\n",
       "      <td>NaN</td>\n",
       "      <td>NaN</td>\n",
       "      <td>NaN</td>\n",
       "      <td>NaN</td>\n",
       "      <td>NaN</td>\n",
       "      <td>NaN</td>\n",
       "      <td>NaN</td>\n",
       "    </tr>\n",
       "    <tr>\n",
       "      <th>30017</th>\n",
       "      <td>ZkGvyfwBy8w</td>\n",
       "      <td>Hope we havent 😮</td>\n",
       "      <td>2024-07-22 03:04:03.660877</td>\n",
       "      <td>NaN</td>\n",
       "      <td>NaN</td>\n",
       "      <td>NaN</td>\n",
       "      <td>NaN</td>\n",
       "      <td>NaN</td>\n",
       "      <td>NaN</td>\n",
       "      <td>NaN</td>\n",
       "      <td>NaN</td>\n",
       "      <td>NaN</td>\n",
       "    </tr>\n",
       "  </tbody>\n",
       "</table>\n",
       "<p>30018 rows × 12 columns</p>\n",
       "</div>"
      ],
      "text/plain": [
       "          video_id                                               text  \\\n",
       "0      qRD4oFEzEk8                        Cannabis works for epilepsy   \n",
       "1      qRD4oFEzEk8              THE NUMBERS MASON. WHAT DO THEY MEAN?   \n",
       "2      qRD4oFEzEk8                  I hope it&#39;s not another scam.   \n",
       "3      JJZM_E5dhlg  Shannon Bream...you are a sick individual and ...   \n",
       "4      JJZM_E5dhlg                   Canpaña abinader leonel  enemigo   \n",
       "...            ...                                                ...   \n",
       "30013  ZkGvyfwBy8w                        Rishi Robot is on a loop 🤖🤖   \n",
       "30014  ZkGvyfwBy8w  why he is not visiting universities instead of...   \n",
       "30015  ZkGvyfwBy8w                 Got help this country under labour   \n",
       "30016  ZkGvyfwBy8w  Rishi will do and say anything to keep his gri...   \n",
       "30017  ZkGvyfwBy8w                                   Hope we havent 😮   \n",
       "\n",
       "                     published_at Unnamed: 4 Unnamed: 5 Unnamed: 6 Unnamed: 7  \\\n",
       "0      2024-07-27 14:25:50.082245        NaN        NaN        NaN        NaN   \n",
       "1      2024-07-27 14:25:50.082245        NaN        NaN        NaN        NaN   \n",
       "2      2024-07-27 14:25:50.082245        NaN        NaN        NaN        NaN   \n",
       "3      2024-07-27 14:26:02.878828        NaN        NaN        NaN        NaN   \n",
       "4      2024-07-27 14:26:02.878828        NaN        NaN        NaN        NaN   \n",
       "...                           ...        ...        ...        ...        ...   \n",
       "30013  2024-07-22 03:04:03.660877        NaN        NaN        NaN        NaN   \n",
       "30014  2024-07-22 03:04:03.660877        NaN        NaN        NaN        NaN   \n",
       "30015  2024-07-22 03:04:03.660877        NaN        NaN        NaN        NaN   \n",
       "30016  2024-07-22 03:04:03.660877        NaN        NaN        NaN        NaN   \n",
       "30017  2024-07-22 03:04:03.660877        NaN        NaN        NaN        NaN   \n",
       "\n",
       "      Unnamed: 8 Unnamed: 9 Unnamed: 10 Unnamed: 11 Unnamed: 12  \n",
       "0            NaN        NaN         NaN         NaN         NaN  \n",
       "1            NaN        NaN         NaN         NaN         NaN  \n",
       "2            NaN        NaN         NaN         NaN         NaN  \n",
       "3            NaN        NaN         NaN         NaN         NaN  \n",
       "4            NaN        NaN         NaN         NaN         NaN  \n",
       "...          ...        ...         ...         ...         ...  \n",
       "30013        NaN        NaN         NaN         NaN         NaN  \n",
       "30014        NaN        NaN         NaN         NaN         NaN  \n",
       "30015        NaN        NaN         NaN         NaN         NaN  \n",
       "30016        NaN        NaN         NaN         NaN         NaN  \n",
       "30017        NaN        NaN         NaN         NaN         NaN  \n",
       "\n",
       "[30018 rows x 12 columns]"
      ]
     },
     "execution_count": 4,
     "metadata": {},
     "output_type": "execute_result"
    }
   ],
   "source": [
    "# Combine Max's and Sammy's DataFrames\n",
    "sammy_max_comments = pd.concat([sammys_comments, maxs_comments], ignore_index=True)\n",
    "\n",
    "# drop columns not needed for attrition and compliance\n",
    "columns_to_drop = ['replies']\n",
    "sammy_max_comments = sammy_max_comments.drop(columns=columns_to_drop)\n",
    "\n",
    "# Rename comment column to text\n",
    "sammy_max_comments.rename(columns={'comment': 'text'}, inplace=True)\n",
    "sammy_max_comments.rename(columns={'date': 'published_at'}, inplace=True)\n",
    "sammy_max_comments"
   ]
  },
  {
   "cell_type": "code",
   "execution_count": 5,
   "metadata": {},
   "outputs": [
    {
     "data": {
      "text/plain": [
       "Index(['video_id', 'comment_id', 'author', 'text', 'published_at',\n",
       "       'like_count'],\n",
       "      dtype='object')"
      ]
     },
     "execution_count": 5,
     "metadata": {},
     "output_type": "execute_result"
    }
   ],
   "source": [
    "# Load Ted's comments CSV files into DataFrames\n",
    "teds_comments = pd.read_csv('teds_comments_29jul2024.csv')\n",
    "\n",
    "teds_comments.shape\n",
    "teds_comments.columns"
   ]
  },
  {
   "cell_type": "code",
   "execution_count": 6,
   "metadata": {},
   "outputs": [
    {
     "data": {
      "text/plain": [
       "Index(['video_id', 'comment_id', 'author', 'text', 'published_at',\n",
       "       'like_count'],\n",
       "      dtype='object')"
      ]
     },
     "execution_count": 6,
     "metadata": {},
     "output_type": "execute_result"
    }
   ],
   "source": [
    "# Load Tracy's comments CSV files into DataFrames\n",
    "tracys_comments = pd.read_csv('tracys_comments_27jul2024.csv')\n",
    "\n",
    "tracys_comments.shape\n",
    "tracys_comments.columns"
   ]
  },
  {
   "cell_type": "code",
   "execution_count": 7,
   "metadata": {},
   "outputs": [
    {
     "data": {
      "text/plain": [
       "Index(['video_id', 'comment_id', 'author', 'text', 'published_at',\n",
       "       'like_count'],\n",
       "      dtype='object')"
      ]
     },
     "execution_count": 7,
     "metadata": {},
     "output_type": "execute_result"
    }
   ],
   "source": [
    "# Load Tony's comments CSV files into DataFrames\n",
    "tonys_comments = pd.read_csv('tonys_comments_27jul2024.csv')\n",
    "\n",
    "tonys_comments.shape\n",
    "tonys_comments.columns"
   ]
  },
  {
   "cell_type": "code",
   "execution_count": 8,
   "metadata": {},
   "outputs": [
    {
     "data": {
      "text/plain": [
       "Index(['video_id', 'text', 'published_at'], dtype='object')"
      ]
     },
     "execution_count": 8,
     "metadata": {},
     "output_type": "execute_result"
    }
   ],
   "source": [
    "# Concatenate the DataFrames\n",
    "tony_tracy_ted_comments = pd.concat([tonys_comments, teds_comments, tracys_comments], ignore_index=True)\n",
    "\n",
    "# drop columns not needed for attrition and compliance\n",
    "columns_to_drop = ['comment_id', 'author', 'like_count']  # Replace with your actual column names\n",
    "tony_tracy_ted_comments = tony_tracy_ted_comments.drop(columns=columns_to_drop)\n",
    "\n",
    "tony_tracy_ted_comments.columns\n"
   ]
  },
  {
   "cell_type": "code",
   "execution_count": 9,
   "metadata": {},
   "outputs": [
    {
     "name": "stdout",
     "output_type": "stream",
     "text": [
      "DataFrames combined successfully!\n"
     ]
    },
    {
     "data": {
      "text/plain": [
       "video_id        object\n",
       "text            object\n",
       "published_at    object\n",
       "Unnamed: 4      object\n",
       "Unnamed: 5      object\n",
       "Unnamed: 6      object\n",
       "Unnamed: 7      object\n",
       "Unnamed: 8      object\n",
       "Unnamed: 9      object\n",
       "Unnamed: 10     object\n",
       "Unnamed: 11     object\n",
       "Unnamed: 12     object\n",
       "dtype: object"
      ]
     },
     "execution_count": 9,
     "metadata": {},
     "output_type": "execute_result"
    }
   ],
   "source": [
    "# Concatenate the DataFrames\n",
    "combined_comments = pd.concat([sammy_max_comments, tony_tracy_ted_comments], \n",
    "                              ignore_index=True, sort=False)\n",
    "\n",
    "# Save the combined DataFrame to a new CSV file\n",
    "combined_comments.to_csv('combined_dataframe.csv', index=False)\n",
    "\n",
    "print(\"DataFrames combined successfully!\")\n",
    "\n",
    "combined_comments.shape\n",
    "combined_comments.dtypes"
   ]
  },
  {
   "cell_type": "markdown",
   "metadata": {},
   "source": [
    "### Load the treatment and control assignment file"
   ]
  },
  {
   "cell_type": "code",
   "execution_count": 10,
   "metadata": {},
   "outputs": [
    {
     "data": {
      "text/plain": [
       "video_id              object\n",
       "video_title           object\n",
       "channel_name          object\n",
       "genre                 object\n",
       "views                  int64\n",
       "likes                  int64\n",
       "dislikes               int64\n",
       "comment_count          int64\n",
       "video_length           int64\n",
       "video_posting_date    object\n",
       "treatment             object\n",
       "comment               object\n",
       "owner                 object\n",
       "completed               bool\n",
       "Date Posted           object\n",
       "dtype: object"
      ]
     },
     "execution_count": 10,
     "metadata": {},
     "output_type": "execute_result"
    }
   ],
   "source": [
    "# Load the CSV files into DataFrames\n",
    "all_videos = pd.read_csv('241_Random_Assignment.csv')\n",
    "\n",
    "# Remove the specified columns\n",
    "columns_to_remove_2 = [\n",
    "    'Unnamed: 15', 'Unnamed: 16', 'Unnamed: 17'\n",
    "]\n",
    "all_videos.drop(columns=columns_to_remove_2, inplace=True)\n",
    "#all_videos['comment'] = all_videos['comment'].str.replace('.', '', regex=True).str.strip()\n",
    "\n",
    "all_videos.shape\n",
    "all_videos\n",
    "all_videos.dtypes"
   ]
  },
  {
   "cell_type": "code",
   "execution_count": 11,
   "metadata": {},
   "outputs": [
    {
     "name": "stdout",
     "output_type": "stream",
     "text": [
      "['The blockchain technology behind Bitcoin is innovative and complex.' nan\n",
      " 'Bitcoin seems to have its pros and cons.'\n",
      " 'Bitcoin is an interesting development in financial technology.'\n",
      " 'Interesting to see how Bitcoin is used in the future.'\n",
      " \"Investors are closely monitoring Bitcoin's market trends.\"\n",
      " \"Bitcoin's decentralized nature challenges traditional financial systems.\"\n",
      " 'Governments are exploring regulatory frameworks to manage Bitcoin.']\n"
     ]
    }
   ],
   "source": [
    "# Get unique comments\n",
    "unique_comments = all_videos['comment'].unique()\n",
    "\n",
    "# Display the unique comments\n",
    "print(unique_comments)"
   ]
  },
  {
   "cell_type": "markdown",
   "metadata": {},
   "source": [
    "### Calculate compliance for each treatment comment"
   ]
  },
  {
   "cell_type": "markdown",
   "metadata": {},
   "source": [
    "**`Added this RE function to replace the str.contains() in the compliance functions`**"
   ]
  },
  {
   "cell_type": "code",
   "execution_count": 12,
   "metadata": {},
   "outputs": [],
   "source": [
    "# using RE to match text with/without period instead of str.contains()\n",
    "\n",
    "def standardize_text(t):\n",
    "    if pd.isna(t):\n",
    "        return ''\n",
    "    return re.sub(r'[^\\w\\s]', '', str(t).lower().strip())"
   ]
  },
  {
   "cell_type": "code",
   "execution_count": 13,
   "metadata": {},
   "outputs": [],
   "source": [
    "def calculate_compliance_rate(all_videos, combined_comments, text):\n",
    "    \"\"\"\n",
    "    Calculate the compliance rate based on a specific text comment and identify non-compliant video_ids.\n",
    "\n",
    "    Parameters:\n",
    "    - all_videos (DataFrame): DataFrame containing video assignments.\n",
    "    - combined_comments (DataFrame): DataFrame containing comments.\n",
    "    - text (str): The specific comment text to filter by.\n",
    "\n",
    "    Returns:\n",
    "    - None: Prints the compliance rate and non-compliant video_ids.\n",
    "    \"\"\"\n",
    "    # Filter rows where the 'comment' column contains the specific comment in all_videos\n",
    "    matching_videos_assignment = all_videos[all_videos['comment'].str.contains(\n",
    "        text, \n",
    "        na=False\n",
    "    )]\n",
    "\n",
    "    # Get unique video_ids where the comment appears\n",
    "    video_ids_assignment = matching_videos_assignment['video_id'].unique()\n",
    "    assignment_count = len(video_ids_assignment)\n",
    "\n",
    "    # Filter rows where the 'text' column contains the specific comment in combined_comments\n",
    "    matching_videos_comments = combined_comments[combined_comments['text'].str.contains(\n",
    "        text, \n",
    "        na=False\n",
    "    )]\n",
    "\n",
    "    # Get unique video_ids where the comment appears\n",
    "    video_ids_comments = matching_videos_comments['video_id'].unique()\n",
    "    comment_count = len(video_ids_comments)\n",
    "\n",
    "    # Calculate the compliance rate\n",
    "    compliance = comment_count / assignment_count\n",
    "\n",
    "    # Identify non-compliant video_ids\n",
    "    non_compliant_video_ids = set(video_ids_assignment) - set(video_ids_comments)\n",
    "\n",
    "    # Print the results\n",
    "    print(f\"Comment Text: {text}\")\n",
    "    print(f\"Count of treatment videos assigned this comment: {assignment_count}\")\n",
    "    print(f\"Treatment videos count that remained compliant: {comment_count}\")\n",
    "    print(f\"Compliance rate for this comment: {compliance:.4f}\")\n",
    "    print(f\"Video IDs not compliant: {list(non_compliant_video_ids)}\")\n",
    "\n",
    "    return non_compliant_video_ids\n"
   ]
  },
  {
   "cell_type": "code",
   "execution_count": 14,
   "metadata": {},
   "outputs": [],
   "source": [
    "\n",
    "def calculate_compliance_rate(all_videos, combined_comments, text):\n",
    "    \"\"\"\n",
    "    Calculate the compliance rate based on a specific text comment and identify non-compliant video_ids.\n",
    "    Only considers the treatment group and ignores punctuation differences.\n",
    "\n",
    "    Parameters:\n",
    "    - all_videos (DataFrame): DataFrame containing video assignments.\n",
    "    - combined_comments (DataFrame): DataFrame containing comments.\n",
    "    - text (str): The specific comment text to filter by.\n",
    "\n",
    "    Returns:\n",
    "    - set: Non-compliant video IDs (empty set if all are compliant or if there are no assignments)\n",
    "    \"\"\"\n",
    "    \n",
    "    standard_text = standardize_text(text)\n",
    "\n",
    "    treatment_group = all_videos[all_videos['comment'].notna()]\n",
    "    \n",
    "    control_group_count = all_videos['comment'].isna().sum()\n",
    "    print(f\"Number of videos in control group: {control_group_count}\")\n",
    "\n",
    "    matching_videos_assignment = treatment_group[treatment_group['comment'].apply(standardize_text) == standard_text]\n",
    "\n",
    "    video_ids_assignment = set(matching_videos_assignment['video_id'].unique())\n",
    "    assignment_count = len(video_ids_assignment)\n",
    "\n",
    "    matching_videos_comments = combined_comments[combined_comments['text'].apply(standardize_text) == standard_text]\n",
    "\n",
    "    video_ids_comments = set(matching_videos_comments['video_id'].unique())\n",
    "    comment_count = len(video_ids_comments)\n",
    "\n",
    "    compliance = comment_count / assignment_count\n",
    "\n",
    "    non_compliant_video_ids = video_ids_assignment - video_ids_comments\n",
    "\n",
    "    print(f\"Comment Text: {text}\")\n",
    "    print(f\"Count of treatment videos assigned this comment: {assignment_count}\")\n",
    "    print(f\"Treatment videos count that remained compliant: {comment_count}\")\n",
    "    print(f\"Compliance rate for this comment: {compliance:.4f}\")\n",
    "    print(f\"Video IDs not compliant: {list(non_compliant_video_ids)}\")\n",
    "\n",
    "    return non_compliant_video_ids"
   ]
  },
  {
   "cell_type": "code",
   "execution_count": 15,
   "metadata": {},
   "outputs": [
    {
     "name": "stdout",
     "output_type": "stream",
     "text": [
      "Number of videos in control group: 169\n",
      "Comment Text: The blockchain technology behind Bitcoin is innovative and complex.\n",
      "Count of treatment videos assigned this comment: 24\n",
      "Treatment videos count that remained compliant: 16\n",
      "Compliance rate for this comment: 0.6667\n",
      "Video IDs not compliant: ['a47XjAWQgM0', 'qRD4oFEzEk8', '0KcJ3oxHaxo', '6VNaXPIJpL8', '5fouBcEPtlU', 'U5hznikB1GY', 'MsB6A-9vs-M', 'P59AZ-6RlPw']\n"
     ]
    }
   ],
   "source": [
    "TEXT_1 = \"The blockchain technology behind Bitcoin is innovative and complex.\"\n",
    "non_compliant_video_ids = calculate_compliance_rate(all_videos, combined_comments, TEXT_1)"
   ]
  },
  {
   "cell_type": "code",
   "execution_count": 16,
   "metadata": {},
   "outputs": [
    {
     "name": "stdout",
     "output_type": "stream",
     "text": [
      "Number of videos in control group: 169\n",
      "Comment Text: Bitcoin seems to have its pros and cons.\n",
      "Count of treatment videos assigned this comment: 28\n",
      "Treatment videos count that remained compliant: 23\n",
      "Compliance rate for this comment: 0.8214\n",
      "Video IDs not compliant: ['4Y7SuI75KkA', '6EJN3uRTzjs', '7BRYT28xvuk', 'Zxm3u5c2sCI', 'ButWVpBDID0']\n"
     ]
    }
   ],
   "source": [
    "TEXT_2 = \"Bitcoin seems to have its pros and cons.\"\n",
    "non_compliant_video_ids = calculate_compliance_rate(all_videos, combined_comments, TEXT_2)"
   ]
  },
  {
   "cell_type": "code",
   "execution_count": 17,
   "metadata": {},
   "outputs": [
    {
     "name": "stdout",
     "output_type": "stream",
     "text": [
      "Number of videos in control group: 169\n",
      "Comment Text: Bitcoin is an interesting development in financial technology.\n",
      "Count of treatment videos assigned this comment: 24\n",
      "Treatment videos count that remained compliant: 21\n",
      "Compliance rate for this comment: 0.8750\n",
      "Video IDs not compliant: ['XihN6uHBihE', 'jI7lG6YHpKY', 'YFXdaCykwq4', 'ZkGvyfwBy8w']\n"
     ]
    }
   ],
   "source": [
    "TEXT_3 = \"Bitcoin is an interesting development in financial technology.\"\n",
    "non_compliant_video_ids = calculate_compliance_rate(all_videos, combined_comments, TEXT_3)"
   ]
  },
  {
   "cell_type": "code",
   "execution_count": 18,
   "metadata": {},
   "outputs": [
    {
     "name": "stdout",
     "output_type": "stream",
     "text": [
      "Number of videos in control group: 169\n",
      "Comment Text: Interesting to see how Bitcoin is used in the future\n",
      "Count of treatment videos assigned this comment: 29\n",
      "Treatment videos count that remained compliant: 24\n",
      "Compliance rate for this comment: 0.8276\n",
      "Video IDs not compliant: ['VGbib6Qg2qg', 'YdkQGBipVXU', 'ytscdDCVz8k', 'qwEtfIeprko', 'sHNasEwVKJI']\n"
     ]
    }
   ],
   "source": [
    "TEXT_4 = \"Interesting to see how Bitcoin is used in the future\"\n",
    "non_compliant_video_ids = calculate_compliance_rate(all_videos, combined_comments, TEXT_4)"
   ]
  },
  {
   "cell_type": "code",
   "execution_count": 19,
   "metadata": {},
   "outputs": [
    {
     "name": "stdout",
     "output_type": "stream",
     "text": [
      "Number of videos in control group: 169\n",
      "Comment Text: Investors are closely monitoring Bitcoin's market trends\n",
      "Count of treatment videos assigned this comment: 26\n",
      "Treatment videos count that remained compliant: 14\n",
      "Compliance rate for this comment: 0.5385\n",
      "Video IDs not compliant: ['78VLWJ49Owg', '0ZW-icIM01U', 'BOahopz5nJI', '39Ef4otlH7Y', 'Jo0t5PlntwM', '2KFLb0dEvZI', 'lUD3UOHWtZs', '9sr6nDBUy6Y', 'eKqa06ThrlQ', 'GG0mPMF1iWQ', 'OzfCwTb8Bog', 'jGpCvSMcRyY']\n"
     ]
    }
   ],
   "source": [
    "TEXT_5 = \"Investors are closely monitoring Bitcoin's market trends\"\n",
    "non_compliant_video_ids = calculate_compliance_rate(all_videos, combined_comments, TEXT_5)"
   ]
  },
  {
   "cell_type": "code",
   "execution_count": 20,
   "metadata": {},
   "outputs": [
    {
     "name": "stdout",
     "output_type": "stream",
     "text": [
      "Number of videos in control group: 169\n",
      "Comment Text: Bitcoin's decentralized nature challenges traditional financial systems\n",
      "Count of treatment videos assigned this comment: 32\n",
      "Treatment videos count that remained compliant: 15\n",
      "Compliance rate for this comment: 0.4688\n",
      "Video IDs not compliant: ['gvZ0w0rpKzc', 'ofJPJZpfhG0', 'cnEyTjlb6S0', 'HYjYSvS_Dr4', 'l0_hrxBvZjI', 'q0HntoXrVbA', 'XaI-0Z4nFpU', 'yajzaIWxAvQ', '8_ZxXs7mlqs', 'cvR6kTkq3Yg', 'kkOOwdL4T_w', 'oAOYAbcs0_M', 'A8uQqfu69GU', 'N7g3boNfaFU', 'KFPSP-ViZ8I', '1XHeoQpojAY', 'sCGFARcB2mM']\n"
     ]
    }
   ],
   "source": [
    "TEXT_6 = \"Bitcoin's decentralized nature challenges traditional financial systems\"\n",
    "non_compliant_video_ids = calculate_compliance_rate(all_videos, combined_comments, TEXT_6)"
   ]
  },
  {
   "cell_type": "code",
   "execution_count": 21,
   "metadata": {},
   "outputs": [
    {
     "name": "stdout",
     "output_type": "stream",
     "text": [
      "Number of videos in control group: 169\n",
      "Comment Text: Governments are exploring regulatory frameworks to manage Bitcoin\n",
      "Count of treatment videos assigned this comment: 25\n",
      "Treatment videos count that remained compliant: 18\n",
      "Compliance rate for this comment: 0.7200\n",
      "Video IDs not compliant: ['3aMvY39Z_sk', 'ETtc4SvUnQg', 'cXRNgI9o7Do', 'XH4uUHcbVgk', 'jKSeZOyqo90', 'cqTjnetcRDE', 'AF0ShxWuFBs']\n"
     ]
    },
    {
     "data": {
      "text/plain": [
       "{'3aMvY39Z_sk',\n",
       " 'AF0ShxWuFBs',\n",
       " 'ETtc4SvUnQg',\n",
       " 'XH4uUHcbVgk',\n",
       " 'cXRNgI9o7Do',\n",
       " 'cqTjnetcRDE',\n",
       " 'jKSeZOyqo90'}"
      ]
     },
     "execution_count": 21,
     "metadata": {},
     "output_type": "execute_result"
    }
   ],
   "source": [
    "TEXT_7 = \"Governments are exploring regulatory frameworks to manage Bitcoin\"\n",
    "non_compliant_video_ids = calculate_compliance_rate(all_videos, combined_comments, TEXT_7)\n",
    "non_compliant_video_ids"
   ]
  },
  {
   "cell_type": "markdown",
   "metadata": {},
   "source": [
    "### Calculate total compliance rate using code above\n",
    "\n",
    "Code very similar to above but includes total compliance rate"
   ]
  },
  {
   "cell_type": "code",
   "execution_count": 22,
   "metadata": {},
   "outputs": [],
   "source": [
    "\n",
    "# Define the function to calculate compliance rate for a specific comment\n",
    "\n",
    "def calculate_compliance_rate(all_videos, combined_comments, text):\n",
    "    \"\"\"\n",
    "    Calculate the compliance rate based on a specific text comment and identify non-compliant video_ids.\n",
    "    Only considers the treatment group and ignores punctuation differences.\n",
    "\n",
    "    Parameters:\n",
    "    - all_videos (DataFrame): DataFrame containing video assignments.\n",
    "    - combined_comments (DataFrame): DataFrame containing comments.\n",
    "    - text (str): The specific comment text to filter by.\n",
    "\n",
    "    Returns:\n",
    "    - float: Compliance rate for this comment\n",
    "    - set: Video IDs assigned this comment\n",
    "    - set: Video IDs that remained compliant\n",
    "    - set: Non-compliant video IDs\n",
    "    \"\"\"\n",
    "    \n",
    "    standard_text = standardize_text(text)\n",
    "\n",
    "    treatment_group = all_videos[all_videos['comment'].notna()]\n",
    "    \n",
    "    control_group_count = all_videos['comment'].isna().sum()\n",
    "    print(f\"Number of videos in control group: {control_group_count}\")\n",
    "\n",
    "    matching_videos_assignment = treatment_group[treatment_group['comment'].apply(standardize_text) == standard_text]\n",
    "\n",
    "    video_ids_assignment = set(matching_videos_assignment['video_id'].astype(str))\n",
    "    assignment_count = len(video_ids_assignment)\n",
    "\n",
    "    matching_videos_comments = combined_comments[combined_comments['text'].apply(standardize_text) == standard_text]\n",
    "\n",
    "    video_ids_comments = set(matching_videos_comments['video_id'].astype(str))\n",
    "    comment_count = len(video_ids_comments)\n",
    "\n",
    "    if assignment_count > 0:\n",
    "        compliance = comment_count / assignment_count\n",
    "    else:\n",
    "        compliance = 0\n",
    "\n",
    "    non_compliant_video_ids = video_ids_assignment - video_ids_comments\n",
    "\n",
    "    print(f\"Comment Text: {text}\")\n",
    "    print(f\"Count of treatment videos assigned this comment: {assignment_count}\")\n",
    "    print(f\"Treatment videos count that remained compliant: {comment_count}\")\n",
    "    print(f\"Compliance rate for this comment: {compliance:.4f}\")\n",
    "    print(f\"Video IDs not compliant: {list(non_compliant_video_ids)}\")\n",
    "\n",
    "    return compliance, video_ids_assignment, video_ids_comments, non_compliant_video_ids\n",
    "\n",
    "# Define the function to calculate total compliance for all comments\n",
    "def calculate_total_compliance(all_videos, combined_comments, comments):\n",
    "    \"\"\"\n",
    "    Calculate the total compliance rate for all comments combined.\n",
    "\n",
    "    Parameters:\n",
    "    - all_videos (DataFrame): DataFrame containing video assignments.\n",
    "    - combined_comments (DataFrame): DataFrame containing comments.\n",
    "    - comments (list of str): List of comment texts to filter by.\n",
    "\n",
    "    Returns:\n",
    "    - float: The total compliance rate across all comments.\n",
    "    - list: List of non-compliant video IDs.\n",
    "    \"\"\"\n",
    "    all_video_ids_assignment = set()\n",
    "    all_video_ids_comments = set()\n",
    "    all_non_compliant_video_ids = set()\n",
    "\n",
    "    for text in comments:\n",
    "        compliance, video_ids_assignment, video_ids_comments, non_compliant_video_ids = calculate_compliance_rate(\n",
    "            all_videos, combined_comments, text)\n",
    "        \n",
    "        all_video_ids_assignment.update(video_ids_assignment)\n",
    "        all_video_ids_comments.update(video_ids_comments)\n",
    "        all_non_compliant_video_ids.update(non_compliant_video_ids)\n",
    "    \n",
    "    # Calculate the total compliance rate\n",
    "    total_assignment_count = len(all_video_ids_assignment)\n",
    "    total_comment_count = len(all_video_ids_comments)\n",
    "    \n",
    "    if total_assignment_count > 0:\n",
    "        total_compliance = total_comment_count / total_assignment_count\n",
    "    else:\n",
    "        total_compliance = 0\n",
    "    \n",
    "    return total_compliance, list(all_non_compliant_video_ids)"
   ]
  },
  {
   "cell_type": "markdown",
   "metadata": {},
   "source": [
    "**`Now we get a total compliance rate .6968, does this sound realistic?`**"
   ]
  },
  {
   "cell_type": "code",
   "execution_count": 23,
   "metadata": {},
   "outputs": [
    {
     "name": "stdout",
     "output_type": "stream",
     "text": [
      "Number of videos in control group: 169\n",
      "Comment Text: The blockchain technology behind Bitcoin is innovative and complex\n",
      "Count of treatment videos assigned this comment: 24\n",
      "Treatment videos count that remained compliant: 16\n",
      "Compliance rate for this comment: 0.6667\n",
      "Video IDs not compliant: ['a47XjAWQgM0', 'qRD4oFEzEk8', '0KcJ3oxHaxo', '6VNaXPIJpL8', '5fouBcEPtlU', 'U5hznikB1GY', 'MsB6A-9vs-M', 'P59AZ-6RlPw']\n",
      "Number of videos in control group: 169\n",
      "Comment Text: Bitcoin seems to have its pros and cons\n",
      "Count of treatment videos assigned this comment: 28\n",
      "Treatment videos count that remained compliant: 23\n",
      "Compliance rate for this comment: 0.8214\n",
      "Video IDs not compliant: ['4Y7SuI75KkA', '6EJN3uRTzjs', '7BRYT28xvuk', 'Zxm3u5c2sCI', 'ButWVpBDID0']\n",
      "Number of videos in control group: 169\n",
      "Comment Text: Bitcoin is an interesting development in financial technology\n",
      "Count of treatment videos assigned this comment: 24\n",
      "Treatment videos count that remained compliant: 21\n",
      "Compliance rate for this comment: 0.8750\n",
      "Video IDs not compliant: ['XihN6uHBihE', 'jI7lG6YHpKY', 'YFXdaCykwq4', 'ZkGvyfwBy8w']\n",
      "Number of videos in control group: 169\n",
      "Comment Text: Interesting to see how Bitcoin is used in the future\n",
      "Count of treatment videos assigned this comment: 29\n",
      "Treatment videos count that remained compliant: 24\n",
      "Compliance rate for this comment: 0.8276\n",
      "Video IDs not compliant: ['VGbib6Qg2qg', 'YdkQGBipVXU', 'ytscdDCVz8k', 'qwEtfIeprko', 'sHNasEwVKJI']\n",
      "Number of videos in control group: 169\n",
      "Comment Text: Investors are closely monitoring Bitcoin's market trends\n",
      "Count of treatment videos assigned this comment: 26\n",
      "Treatment videos count that remained compliant: 14\n",
      "Compliance rate for this comment: 0.5385\n",
      "Video IDs not compliant: ['78VLWJ49Owg', '0ZW-icIM01U', 'BOahopz5nJI', '39Ef4otlH7Y', 'Jo0t5PlntwM', '2KFLb0dEvZI', 'lUD3UOHWtZs', '9sr6nDBUy6Y', 'eKqa06ThrlQ', 'GG0mPMF1iWQ', 'OzfCwTb8Bog', 'jGpCvSMcRyY']\n",
      "Number of videos in control group: 169\n",
      "Comment Text: Bitcoin's decentralized nature challenges traditional financial systems\n",
      "Count of treatment videos assigned this comment: 32\n",
      "Treatment videos count that remained compliant: 15\n",
      "Compliance rate for this comment: 0.4688\n",
      "Video IDs not compliant: ['gvZ0w0rpKzc', 'ofJPJZpfhG0', 'cnEyTjlb6S0', 'HYjYSvS_Dr4', 'l0_hrxBvZjI', 'q0HntoXrVbA', 'XaI-0Z4nFpU', 'yajzaIWxAvQ', '8_ZxXs7mlqs', 'cvR6kTkq3Yg', 'kkOOwdL4T_w', 'oAOYAbcs0_M', 'A8uQqfu69GU', 'N7g3boNfaFU', 'KFPSP-ViZ8I', '1XHeoQpojAY', 'sCGFARcB2mM']\n",
      "Number of videos in control group: 169\n",
      "Comment Text: Governments are exploring regulatory frameworks to manage Bitcoin\n",
      "Count of treatment videos assigned this comment: 25\n",
      "Treatment videos count that remained compliant: 18\n",
      "Compliance rate for this comment: 0.7200\n",
      "Video IDs not compliant: ['3aMvY39Z_sk', 'ETtc4SvUnQg', 'cXRNgI9o7Do', 'XH4uUHcbVgk', 'jKSeZOyqo90', 'cqTjnetcRDE', 'AF0ShxWuFBs']\n",
      "Total compliance rate across all comments: 0.6968\n",
      "Non-compliant video IDs: ['4Y7SuI75KkA', '6EJN3uRTzjs', 'gvZ0w0rpKzc', 'ofJPJZpfhG0', '3aMvY39Z_sk', 'a47XjAWQgM0', 'BOahopz5nJI', '0KcJ3oxHaxo', 'kkOOwdL4T_w', 'XH4uUHcbVgk', 'lUD3UOHWtZs', 'jKSeZOyqo90', 'Zxm3u5c2sCI', 'MsB6A-9vs-M', 'cqTjnetcRDE', 'OzfCwTb8Bog', 'sCGFARcB2mM', '78VLWJ49Owg', 'HYjYSvS_Dr4', 'l0_hrxBvZjI', 'VGbib6Qg2qg', '8_ZxXs7mlqs', 'XihN6uHBihE', 'U5hznikB1GY', 'eKqa06ThrlQ', 'GG0mPMF1iWQ', 'ytscdDCVz8k', 'AF0ShxWuFBs', 'P59AZ-6RlPw', 'ZkGvyfwBy8w', 'qRD4oFEzEk8', 'YdkQGBipVXU', 'cvR6kTkq3Yg', '39Ef4otlH7Y', 'ETtc4SvUnQg', 'oAOYAbcs0_M', 'jI7lG6YHpKY', '6VNaXPIJpL8', '5fouBcEPtlU', 'qwEtfIeprko', '2KFLb0dEvZI', '9sr6nDBUy6Y', 'KFPSP-ViZ8I', 'sHNasEwVKJI', 'cnEyTjlb6S0', 'ButWVpBDID0', 'jGpCvSMcRyY', '0ZW-icIM01U', 'q0HntoXrVbA', '7BRYT28xvuk', 'XaI-0Z4nFpU', 'yajzaIWxAvQ', 'A8uQqfu69GU', 'Jo0t5PlntwM', 'cXRNgI9o7Do', '1XHeoQpojAY', 'N7g3boNfaFU', 'YFXdaCykwq4']\n",
      "Count of Non-compliant video: 58\n"
     ]
    }
   ],
   "source": [
    "\n",
    "# Example usage\n",
    "comments = [\n",
    "    \"The blockchain technology behind Bitcoin is innovative and complex\",\n",
    "    \"Bitcoin seems to have its pros and cons\",\n",
    "    \"Bitcoin is an interesting development in financial technology\",\n",
    "    \"Interesting to see how Bitcoin is used in the future\",\n",
    "    \"Investors are closely monitoring Bitcoin's market trends\",\n",
    "    \"Bitcoin's decentralized nature challenges traditional financial systems\",\n",
    "    \"Governments are exploring regulatory frameworks to manage Bitcoin\"\n",
    "]\n",
    "\n",
    "total_compliance, non_compliant_video_ids = calculate_total_compliance(all_videos, combined_comments, comments)\n",
    "print(f\"Total compliance rate across all comments: {total_compliance:.4f}\")\n",
    "print(f\"Non-compliant video IDs: {non_compliant_video_ids}\")\n",
    "print(f\"Count of Non-compliant video: {len(non_compliant_video_ids)}\")\n"
   ]
  },
  {
   "cell_type": "code",
   "execution_count": 28,
   "metadata": {},
   "outputs": [],
   "source": [
    "def calculate_total_compliance(all_videos, combined_comments, comments):\n",
    "    \"\"\"\n",
    "    Calculate the total compliance rate for all comments combined.\n",
    "\n",
    "    Parameters:\n",
    "    - all_videos (DataFrame): DataFrame containing video assignments.\n",
    "    - combined_comments (DataFrame): DataFrame containing comments.\n",
    "    - comments (list of str): List of comment texts to filter by.\n",
    "\n",
    "    Returns:\n",
    "    - float: The total compliance rate across all comments.\n",
    "    - list: List of non-compliant video IDs.\n",
    "    \"\"\"\n",
    "    all_video_ids_assignment = set()\n",
    "    all_video_ids_comments = set()\n",
    "    all_non_compliant_video_ids = set()\n",
    "\n",
    "    for text in comments:\n",
    "        compliance, video_ids_assignment, video_ids_comments, non_compliant_video_ids = calculate_compliance_rate(\n",
    "            all_videos, combined_comments, text)\n",
    "        \n",
    "        all_video_ids_assignment.update(video_ids_assignment)\n",
    "        all_video_ids_comments.update(video_ids_comments)\n",
    "        all_non_compliant_video_ids.update(non_compliant_video_ids)\n",
    "    \n",
    "    # Calculate the total compliance rate\n",
    "    total_assignment_count = len(all_video_ids_assignment)\n",
    "    total_comment_count = len(all_video_ids_comments)\n",
    "    \n",
    "    if total_assignment_count > 0:\n",
    "        total_compliance = total_comment_count / total_assignment_count\n",
    "    else:\n",
    "        total_compliance = 0\n",
    "    \n",
    "    return total_compliance, list(all_non_compliant_video_ids)"
   ]
  },
  {
   "cell_type": "code",
   "execution_count": 25,
   "metadata": {},
   "outputs": [],
   "source": [
    "## -- Code "
   ]
  },
  {
   "cell_type": "markdown",
   "metadata": {},
   "source": [
    "**`I didn't change anything after this point`**"
   ]
  },
  {
   "cell_type": "markdown",
   "metadata": {},
   "source": [
    "### Calculate compliance using a different approach"
   ]
  },
  {
   "cell_type": "code",
   "execution_count": 29,
   "metadata": {},
   "outputs": [
    {
     "name": "stdout",
     "output_type": "stream",
     "text": [
      "      video_id                                            comment  \\\n",
      "0  qRD4oFEzEk8  The blockchain technology behind Bitcoin is in...   \n",
      "1  UVEBA98jtm8                                                NaN   \n",
      "2  IHf2Gi3qHY0                                                NaN   \n",
      "3  70Qhge-3W-k                                                NaN   \n",
      "4  _FwD-FETfuI           Bitcoin seems to have its pros and cons.   \n",
      "\n",
      "   video_present  comment_present  \n",
      "0           True            False  \n",
      "1          False            False  \n",
      "2          False            False  \n",
      "3          False            False  \n",
      "4           True             True  \n"
     ]
    }
   ],
   "source": [
    "\n",
    "# Create a dictionary of video_ids to comments for quick lookup\n",
    "comments_dict = combined_comments.groupby('video_id')['text'].apply(set).to_dict()\n",
    "\n",
    "# Remove periods from 'text' columns\n",
    "#all_videos['comment'] = all_videos['comment'].str.replace('.', '', regex=False).str.strip()\n",
    "#combined_comments['text'] = combined_comments['text'].str.replace('.', '', regex=False).str.strip()\n",
    "\n",
    "# Initialize new columns\n",
    "all_videos['video_present'] = False\n",
    "all_videos['comment_present'] = False\n",
    "\n",
    "# Function to check video and comment presence\n",
    "def check_video_and_comment(row):\n",
    "    video_id = row['video_id']\n",
    "    comment = row['comment']\n",
    "    if video_id in comments_dict:\n",
    "        row['video_present'] = True\n",
    "        if comment in comments_dict[video_id]:\n",
    "            row['comment_present'] = True\n",
    "    return row\n",
    "\n",
    "# Apply the function to each row\n",
    "all_videos = all_videos.apply(check_video_and_comment, axis=1)\n",
    "\n",
    "# Display the results\n",
    "print(all_videos[['video_id', 'comment', 'video_present', 'comment_present']].head())\n",
    "\n",
    "# Save the result to a new CSV file\n",
    "all_videos.to_csv('compliance_attrition_03Aug2024.csv', index=False)\n",
    "\n"
   ]
  },
  {
   "cell_type": "code",
   "execution_count": 31,
   "metadata": {},
   "outputs": [
    {
     "name": "stdout",
     "output_type": "stream",
     "text": [
      "Video IDs where comment_present is True: ['_FwD-FETfuI', 'JJZM_E5dhlg', '79jPeK0-5hk', '4P7C5quW5AI', 'X6Mic41rb84', 'G2T6_2cR_as', 'D9F4tS1ER-U', 'sBI__lWleHI', 'lNxSOMUBxmc', '9vT_W6eeLy8', 'VpIR1GUgrv4', '0SFLiZIJR2U', 'EN_3DfcDCJs', 'pDcZCHqOrlg', 'uPB6IiqRWAw', 'dP6bPOQTTz8', 'Jyz2sDuz0ss', 'GtmjLOHQ8i8', 'WprINRRdB4s', 'ST_-KqB_IY0', 'Ep9CnRDKJvw', 'fSj4YiemGyg', 'u-0ekHLK9ZY', 'g7Txb2RMmDM', 'bNeRb5qRKzs', 'XOkmKqUcCOY', 'kw5Bxf1J37Y', 'PL_Hdlcs3V4', 'vbMtMgFVODk', '7qOVbIORgx8', '83xG_14RGxI', 'NQsZxEfS0JI', 'jlyRvT92_zA', '9N54qEfmD4M', 'Q4CjYi6_ZzQ', 'baogVkFSTqE', 'nSui8kskb7Q', 'oq5xot--3aw', 'vDjKzZ3PaSA', '8rQ-YnmsLRw', 'vDvJZuVbVRc', 'EWGkegFzk9Y', 'h1JoULVdBHQ', 'alKUQHTnjVo', 'RnWU9-kHjqc', 'dn83nNDRbxM', 'mGwcx3xcErY', 'fSXrG3kO3n4', '1Qkj1j367dI', 'PZ_YX_vfS_g', 'fiCo0BASdkA', 'VYt-t7Eyp-k', '6wHMUxeHBjw', 'Qs1Qr1bFk0I', '7nv_2D5Mz_8', 'EFsPsnT9BKg', 'f9Lebjai5bA', 'KA1fNVWKF78', 'gdIDGnfzWEo', 'sCOXc45U-Rw', 'ym-50_BPqLA', 'ajS22maR_TE', '0ZUJjf_zjrc', 'Tz3LoNzmdS4', 'zAV5tqSime0', 'R4-n0PmiWeE', 'iAUFcYntBSU', 'MTIA0Hq80Rc', 'A-pRkHPvM9o', 'pM8IwZzaIDY', 'vwvELcyiiYY', 'GqpXetV8t0g', 'O9RteTaipl0', 'aEL6XyO8knY', 'Zq8ztzD09AY', '6bVXrfr4D2g', 'zPvSIv6UuG8', 'HwzqKhf4oUA', 'UJOxkoQu7vg', 'Npr9P8cpNjY', '3eWkpYDN1N0', 'aba-riw3AVA', 'Pf1P_3NItpI', '0W7InKWFJmI', '_8Hnw7lsnKY', 'PovDxJKx4dM', 'KsOXYnXdFp0', '9BFrfBP9exE', 'Z4p9aSxN5Eo', 'FhqNN1LykWU', '4Mz2xmBG1t0', 'QARCfqaLYNE', '7fEiD1bvGzA', '_aK1dhm1Rbo', '8MV8B4_9hFc', 'UcF0CZk_9L4', 'Z5wbrf7KQlk', 'rUikHH6GjpU', 'yD0NuqiqEoc', 'd9mEV9b9-oM', 'QPeVUrUrnls', 'QUF5x_KKYQA', 'RTQNmppGO0c', 'MODNhWgAbkU', 'QCAeV8oN1to', 'v6fkveepFms', 'h5q54bCPO98', 'WFYoeG8G3vg', 'C5WL-mSKomY', 'IDl3eUiDmqc', 'zpIKQs8e3Lk', '1ieWWWDsMMg', '7MZuDNryOHQ', 'qwCoQYF-wVM', 'hWcfxIYDxfA', 'Bp_gEFGZixI', '3tRTSk4hOk8', '6xDAhnt8Uio', 'bBmI7rC-h1s', '7NosnGRGSoQ', '94jgviuiHYI', '4NHFZ5XUMpg', 'cV1rhDVqB6E', 'ys0DOsZmr7g']\n",
      "Count of video_ids where comment_present is True: 124\n",
      "Video IDs where comment_present is false: ['qRD4oFEzEk8', '6VNaXPIJpL8', 'OzfCwTb8Bog', 'BOahopz5nJI', 'eKqa06ThrlQ', 'a47XjAWQgM0', 'cnEyTjlb6S0', 'CQYuOE4mMao', 'cXRNgI9o7Do', 'sCGFARcB2mM', 'ytscdDCVz8k', 'EiqKcwIzhkU', '0ZW-icIM01U', '3aMvY39Z_sk', 'ofJPJZpfhG0', 'kkOOwdL4T_w', 'kcA5Yhx-22I', 'KFPSP-ViZ8I', 'lUD3UOHWtZs', '9sr6nDBUy6Y', '78VLWJ49Owg', 'oRxTN0BJTXI', 'cqTjnetcRDE', 'WlsnZsEHU3I', 'XH4uUHcbVgk', 'Jo0t5PlntwM', '4Y7SuI75KkA', '0KcJ3oxHaxo', 'YFXdaCykwq4', 'E6SSxVbGIyA', 'AF0ShxWuFBs', '2KFLb0dEvZI', 'sHNasEwVKJI', 'U5hznikB1GY', 'GG0mPMF1iWQ', 'gvZ0w0rpKzc', 'jGpCvSMcRyY', 'jKSeZOyqo90', 'Zxm3u5c2sCI', '7BRYT28xvuk', 'N7g3boNfaFU', 'ButWVpBDID0', 'P59AZ-6RlPw', 'q0HntoXrVbA', '1XHeoQpojAY', 'MsB6A-9vs-M', 'A8uQqfu69GU', '5fouBcEPtlU', 'qwEtfIeprko', 'ETtc4SvUnQg', 'yajzaIWxAvQ', 'cvR6kTkq3Yg', '6EJN3uRTzjs', 'XihN6uHBihE', 'jI7lG6YHpKY', '8_ZxXs7mlqs', 'HYjYSvS_Dr4', 'XaI-0Z4nFpU', 'ZkGvyfwBy8w', 'l0_hrxBvZjI', 'oAOYAbcs0_M', '39Ef4otlH7Y', 'VGbib6Qg2qg', 'YdkQGBipVXU']\n",
      "----------------------------------------------------------------------------------------------------\n",
      "Count of video_ids where comment_present is false: 64\n"
     ]
    }
   ],
   "source": [
    "## Measure Compliance -- comment_present == True\n",
    "\n",
    "# Get the video_ids where comment_present is True and in treatment group; count the length\n",
    "comment_present_treatment = all_videos[(all_videos['comment_present'] == True) & (all_videos['treatment'] == 'treatment')]\n",
    "video_ids_comment_present_treatment = comment_present_treatment['video_id'].tolist()\n",
    "count_comment_present_treatment = len(video_ids_comment_present_treatment)\n",
    "print(f\"Video IDs where comment_present is True: {video_ids_comment_present_treatment}\")\n",
    "print(f\"Count of video_ids where comment_present is True: {count_comment_present_treatment}\")\n",
    "\n",
    "## ----\n",
    "\n",
    "# Get the video_ids where comment_present is False and in treatment group; count the length\n",
    "comment_notpresent_treatment = all_videos[(all_videos['comment_present'] == False) & (all_videos['treatment'] == 'treatment')]\n",
    "video_ids_notpresent_treatment = comment_notpresent_treatment['video_id'].tolist()\n",
    "count_notpresent_treatment = len(video_ids_notpresent_treatment)\n",
    "print(f\"Video IDs where comment_present is false: {video_ids_notpresent_treatment}\")\n",
    "print('--'*50)\n",
    "print(f\"Count of video_ids where comment_present is false: {count_notpresent_treatment}\")\n"
   ]
  },
  {
   "cell_type": "code",
   "execution_count": 1,
   "metadata": {},
   "outputs": [
    {
     "data": {
      "text/plain": [
       "169"
      ]
     },
     "execution_count": 1,
     "metadata": {},
     "output_type": "execute_result"
    }
   ],
   "source": [
    "control_vid_id = [\n",
    "'UVEBA98jtm8','IHf2Gi3qHY0','70Qhge-3W-k','3qqrL_vtDcg','pJ7621nq_qQ','jy0WnRFGTaI','ZeszgkqAFqw',\n",
    "'s69U0a3TfA4','gGGT8Ozg2-M','biMKV7W6LBY','_l8BUuNICZo','SreJlZGd1c0','6ClWPlrHsW0','UUuDXLsiy-U',\n",
    "'xOGkP7bhgks','-Z4ejPboqrk','yfhv-y7fhwE','7C-UvNOmJAo','7hOyjWdJNgM','I3vCi8LW1fw','xiJyyOuHNOQ',\n",
    "'sJPSEY-IxDo','qhi4oRQJZNk','ERpu2NUF85c','AL2SeKBl7mA','ejFXc_4qYtQ','M5v8G3W2eH4','OkOgVtkEVBc',\n",
    "'TTb0Z1Ee4tY','5UkB8ay-b7Q','YHSL-PbGjQk','WjIwIUnZb8A','1OdwWbGlvb0','9TVLZPfHXjg','yQ30aS3ZERg',\n",
    "'2Un04p8iyFI','UkP7KeM2l-c','zaT2NBS9z90','rnA9YLM99v4','-Ynp-YDMkbM','bBgz3yYVMB4','jluhsLZAPlw',\n",
    "'2oCi_5NneN8','wAfvhq8Ay4U','lCUv9oGVB0E','lRegtVkgKFs','LCl9-uaKzv8','2lX5qrKb0uY','LTJhMmSgaRc',\n",
    "'Hk5-mW-oL2M','X0D6aUcCs1U','rPNvl4hKD_g','sy68RGiGIjo','h72Jl0RnMNQ','r5Ej5CKlaEM','mHICVDsiS3A',\n",
    "'CmaE3pC3C8Q','Ykccm9D97Ds','EVHcgAlEIe4','-9KIIqKN0M0','#NAME?','kR9oQmAySz8','5Ey1LuiPMIc','FbMU5rWQa7E',\n",
    "'o909ZZX6Jwc','ClcJtRLsviE','2sPpl6FAw3c','KLqpfg4DKNE','87lWi8bEZIs','B75c41e6zvU','1SMg0GPA2Gg',\n",
    "'wMJTwxfhdfQ','qD_6ZGXBcO0','fxNxSHzwFng','c7YogJu_Zzk','x4IAJ7mWaWM','bSe0P30Rek0','L5ux3nEv31k',\n",
    "'r5aORPzlomQ','08bA-7k3_oM','P6IVgKndOkY','5n63YOl0UsI','KhLeXm4x7C4','FzwHdFBOYno','H8s8jQY_Z_8',\n",
    "'LOvwaOiW2kI','0FpA1NtmqNM','lDtoDE2Ql3s','sjgdnZZBzCs','xHh4PBnZK1E','UbL3cOmjea0','yxPsjVFsQBY',\n",
    "'4fmE7eSBHmc','mA67_o2cpFg','SHZw7l9ZX7E','S0yPUdm5cfQ','lXz924ApPSA','gRDMEQpovmo','Ue8D5GiaTDE',\n",
    "'xVBEqPp5ITc','bLWxh08Nk2c','Ok_NUh9269k','zPWFtWWXsaQ','mXbjiTfwujI','eLteHvWLJig','qZyIAb1fZ4k',\n",
    "'4tE1ibX02Ts','d8oqcxHGTWI','acwrhK5k7ps','1UaoC_rBpws','VPZHhoyWWS4','zL7Ke8RkZ6o','r6AZVmzRwXM',\n",
    "'mh7Hv4leMlw','zRLoZ9A8jBA','0HrP96H2K6c','vRtXqVrxN6c','EmGyGEyDOPc','61JrKM7xdWw','aZaaDzn6bxQ',\n",
    "'OAXWq1b1l7g','mDPaJqeoVnw','hgH4Fal7SaE','qH__m7SmzFI','FARTWvyGmo4','xy92iXCMstA','dDgYt8bsbX4',\n",
    "'ro1S9-26sZU','8evAvibScAY','692qWtGTvsc','MZQKHe-krv0','sg78Xj6oKFE','EVC3KSszH6U','DMdabMZgnMg',\n",
    "'X8NzgjGh4ro','N4lT8OzfQrU','zhL7_u2S41w','sDSSMSiAVOU','slIRtWJod3w','wnxH3oqruLM','oxU3hQLP9EI',\n",
    "'HeLS5QGoFwo','8ZwWv-QYqeg','HM52g6mHiYo','hAD6u_WCIKI','1OtdzqdcZS4','ycvCQLp2180','hureuKjuY1c',\n",
    "'SHwppS6fCzo','hGFBVgozJ94','eQW-bWxC3AA','yMj6E6HdR24','spTacy80YIE','mIZZcqceb-o','M7HfzlwUImQ',\n",
    "'B27se71XPME','rZGz6DLAwa0','P3q5Vobj_R0','mCI-716jqbU','c0ZdoqgE4fM','z9ihgewNOMs','4Mnmef0n1aw',\n",
    "'bXyZqd_U56Y','cMEsgJSaaJA','KN9INe2hXXw','Qy-fcB7oxOU','yhm7h1xdon4','3RPOpLPHkaI','mrsblYYclTY'\n",
    "]\n",
    "\n",
    "len(control_vid_id)"
   ]
  },
  {
   "cell_type": "code",
   "execution_count": 4,
   "metadata": {},
   "outputs": [
    {
     "name": "stdout",
     "output_type": "stream",
     "text": [
      "itt_effect: 69.68%\n"
     ]
    }
   ],
   "source": [
    "itt_effect = (131/188) - (0/169)\n",
    "print(f'itt_effect: {itt_effect:.2%}')"
   ]
  },
  {
   "cell_type": "code",
   "execution_count": null,
   "metadata": {},
   "outputs": [],
   "source": []
  }
 ],
 "metadata": {
  "kernelspec": {
   "display_name": "base",
   "language": "python",
   "name": "python3"
  },
  "language_info": {
   "codemirror_mode": {
    "name": "ipython",
    "version": 3
   },
   "file_extension": ".py",
   "mimetype": "text/x-python",
   "name": "python",
   "nbconvert_exporter": "python",
   "pygments_lexer": "ipython3",
   "version": "3.11.8"
  }
 },
 "nbformat": 4,
 "nbformat_minor": 2
}
